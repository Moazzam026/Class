{
 "cells": [
  {
   "cell_type": "markdown",
   "id": "be726443",
   "metadata": {},
   "source": [
    "# Remaining string methods"
   ]
  },
  {
   "cell_type": "code",
   "execution_count": 1,
   "id": "63da13ce",
   "metadata": {},
   "outputs": [],
   "source": [
    "cities = ['karachi', 'chakwal', 'quetta', 'lahore', 'multan']"
   ]
  },
  {
   "cell_type": "code",
   "execution_count": 7,
   "id": "3f2c5c8f",
   "metadata": {},
   "outputs": [],
   "source": [
    "cities_string = ' '.join(cities)"
   ]
  },
  {
   "cell_type": "code",
   "execution_count": 14,
   "id": "0121ea89",
   "metadata": {},
   "outputs": [
    {
     "data": {
      "text/plain": [
       "['k', 'r', 'chi ch', 'kw', 'l quett', ' l', 'hore mult', 'n']"
      ]
     },
     "execution_count": 14,
     "metadata": {},
     "output_type": "execute_result"
    }
   ],
   "source": [
    "cities_string.split('a')"
   ]
  },
  {
   "cell_type": "code",
   "execution_count": 15,
   "id": "b0e9a9a6",
   "metadata": {},
   "outputs": [],
   "source": [
    "name = 'lahore'"
   ]
  },
  {
   "cell_type": "code",
   "execution_count": 17,
   "id": "53120e6d",
   "metadata": {},
   "outputs": [
    {
     "data": {
      "text/plain": [
       "['l', 'hore']"
      ]
     },
     "execution_count": 17,
     "metadata": {},
     "output_type": "execute_result"
    }
   ],
   "source": [
    "name.split('a')"
   ]
  },
  {
   "cell_type": "code",
   "execution_count": 18,
   "id": "b687abe6",
   "metadata": {},
   "outputs": [
    {
     "data": {
      "text/plain": [
       "['lahore']"
      ]
     },
     "execution_count": 18,
     "metadata": {},
     "output_type": "execute_result"
    }
   ],
   "source": [
    "name.split(' ')"
   ]
  },
  {
   "cell_type": "markdown",
   "id": "b1b27d1c",
   "metadata": {},
   "source": [
    "# Dictionary"
   ]
  },
  {
   "cell_type": "code",
   "execution_count": 19,
   "id": "45dee170",
   "metadata": {},
   "outputs": [],
   "source": [
    "# dict        key:value\n",
    "details = {'Name':'Nawaz sharif', 'Hobby':'Corruption', 'Nationality':'London'}"
   ]
  },
  {
   "cell_type": "code",
   "execution_count": 21,
   "id": "85929d2d",
   "metadata": {},
   "outputs": [
    {
     "data": {
      "text/plain": [
       "dict"
      ]
     },
     "execution_count": 21,
     "metadata": {},
     "output_type": "execute_result"
    }
   ],
   "source": [
    "type(details)"
   ]
  },
  {
   "cell_type": "code",
   "execution_count": 22,
   "id": "d5e4a1ff",
   "metadata": {},
   "outputs": [
    {
     "data": {
      "text/plain": [
       "3"
      ]
     },
     "execution_count": 22,
     "metadata": {},
     "output_type": "execute_result"
    }
   ],
   "source": [
    "len(details)"
   ]
  },
  {
   "cell_type": "code",
   "execution_count": 24,
   "id": "99b69282",
   "metadata": {},
   "outputs": [
    {
     "data": {
      "text/plain": [
       "'Nawaz sharif'"
      ]
     },
     "execution_count": 24,
     "metadata": {},
     "output_type": "execute_result"
    }
   ],
   "source": [
    "details['Name']"
   ]
  },
  {
   "cell_type": "code",
   "execution_count": 27,
   "id": "389e875b",
   "metadata": {},
   "outputs": [
    {
     "data": {
      "text/plain": [
       "'Corruption'"
      ]
     },
     "execution_count": 27,
     "metadata": {},
     "output_type": "execute_result"
    }
   ],
   "source": [
    "details['Hobby']"
   ]
  },
  {
   "cell_type": "code",
   "execution_count": 28,
   "id": "81c03a49",
   "metadata": {},
   "outputs": [
    {
     "ename": "KeyError",
     "evalue": "'London'",
     "output_type": "error",
     "traceback": [
      "\u001b[1;31m---------------------------------------------------------------------------\u001b[0m",
      "\u001b[1;31mKeyError\u001b[0m                                  Traceback (most recent call last)",
      "Cell \u001b[1;32mIn[28], line 1\u001b[0m\n\u001b[1;32m----> 1\u001b[0m details[\u001b[38;5;124m'\u001b[39m\u001b[38;5;124mLondon\u001b[39m\u001b[38;5;124m'\u001b[39m]\n",
      "\u001b[1;31mKeyError\u001b[0m: 'London'"
     ]
    }
   ],
   "source": [
    "details['London']"
   ]
  },
  {
   "cell_type": "code",
   "execution_count": 30,
   "id": "a9c92c80",
   "metadata": {},
   "outputs": [],
   "source": [
    "profile = {\n",
    "    'Name': 'Hazim', \n",
    "    'Age':20,\n",
    "    'Height':5.5, \n",
    "    'Hobbies': ['Cricket', 'Designing', 'Gaming'], \n",
    "    'Skills': {'Langauges':['Python', 'Html', 'CSS', 'JavaScript'], \n",
    "               'Databases': ['Sqlite', 'Mysql']\n",
    "         }, \n",
    "    'Job Status': True\n",
    "}"
   ]
  },
  {
   "cell_type": "code",
   "execution_count": 31,
   "id": "3bb2c131",
   "metadata": {},
   "outputs": [
    {
     "data": {
      "text/plain": [
       "{'Name': 'Hazim',\n",
       " 'Age': 20,\n",
       " 'Height': 5.5,\n",
       " 'Hobbies': ['Cricket', 'Designing', 'Gaming'],\n",
       " 'Skills': {'Langauges': ['Python', 'Html', 'CSS', 'JavaScript'],\n",
       "  'Databases': ['Sqlite', 'Mysql']},\n",
       " 'Job Status': True}"
      ]
     },
     "execution_count": 31,
     "metadata": {},
     "output_type": "execute_result"
    }
   ],
   "source": [
    "profile"
   ]
  },
  {
   "cell_type": "code",
   "execution_count": 39,
   "id": "982c4209",
   "metadata": {},
   "outputs": [
    {
     "data": {
      "text/plain": [
       "'JavaScript'"
      ]
     },
     "execution_count": 39,
     "metadata": {},
     "output_type": "execute_result"
    }
   ],
   "source": [
    "profile['Skills']['Langauges'][-1]"
   ]
  },
  {
   "cell_type": "code",
   "execution_count": 40,
   "id": "6f329bc7",
   "metadata": {},
   "outputs": [
    {
     "data": {
      "text/plain": [
       "True"
      ]
     },
     "execution_count": 40,
     "metadata": {},
     "output_type": "execute_result"
    }
   ],
   "source": [
    "profile['Job Status']"
   ]
  },
  {
   "cell_type": "code",
   "execution_count": 42,
   "id": "a2ed052f",
   "metadata": {},
   "outputs": [],
   "source": [
    "employee = {\n",
    "    1:'Bilal',\n",
    "    2:'Hazim',\n",
    "    3:'Shakoor'\n",
    "}"
   ]
  },
  {
   "cell_type": "code",
   "execution_count": 43,
   "id": "0f017ea2",
   "metadata": {},
   "outputs": [
    {
     "data": {
      "text/plain": [
       "'Bilal'"
      ]
     },
     "execution_count": 43,
     "metadata": {},
     "output_type": "execute_result"
    }
   ],
   "source": [
    "employee[1]"
   ]
  },
  {
   "cell_type": "markdown",
   "id": "50300d4e",
   "metadata": {},
   "source": [
    "## Dictionary Method"
   ]
  },
  {
   "cell_type": "code",
   "execution_count": 45,
   "id": "b64de76b",
   "metadata": {},
   "outputs": [],
   "source": [
    "a = {}"
   ]
  },
  {
   "cell_type": "code",
   "execution_count": 60,
   "id": "a3ce41ec",
   "metadata": {},
   "outputs": [],
   "source": [
    "type_casting=list(details.items())"
   ]
  },
  {
   "cell_type": "code",
   "execution_count": 64,
   "id": "ff45aae8",
   "metadata": {},
   "outputs": [
    {
     "data": {
      "text/plain": [
       "('Name', 'Nawaz sharif')"
      ]
     },
     "execution_count": 64,
     "metadata": {},
     "output_type": "execute_result"
    }
   ],
   "source": [
    "type_casting[0]"
   ]
  },
  {
   "cell_type": "code",
   "execution_count": 59,
   "id": "c9a332c2",
   "metadata": {},
   "outputs": [
    {
     "data": {
      "text/plain": [
       "dict_items([('Name', 'Nawaz sharif'), ('Hobby', 'Corruption'), ('Nationality', 'London')])"
      ]
     },
     "execution_count": 59,
     "metadata": {},
     "output_type": "execute_result"
    }
   ],
   "source": [
    "details.items()"
   ]
  },
  {
   "cell_type": "code",
   "execution_count": 67,
   "id": "a8b953d8",
   "metadata": {},
   "outputs": [],
   "source": [
    "details.get('Father name') "
   ]
  },
  {
   "cell_type": "code",
   "execution_count": 68,
   "id": "c08c5c9f",
   "metadata": {},
   "outputs": [
    {
     "ename": "KeyError",
     "evalue": "'Father name'",
     "output_type": "error",
     "traceback": [
      "\u001b[1;31m---------------------------------------------------------------------------\u001b[0m",
      "\u001b[1;31mKeyError\u001b[0m                                  Traceback (most recent call last)",
      "Cell \u001b[1;32mIn[68], line 1\u001b[0m\n\u001b[1;32m----> 1\u001b[0m details[\u001b[38;5;124m'\u001b[39m\u001b[38;5;124mFather name\u001b[39m\u001b[38;5;124m'\u001b[39m]\n",
      "\u001b[1;31mKeyError\u001b[0m: 'Father name'"
     ]
    }
   ],
   "source": [
    "details['Father name']"
   ]
  },
  {
   "cell_type": "code",
   "execution_count": 71,
   "id": "30472725",
   "metadata": {},
   "outputs": [],
   "source": [
    "keys = list(details.keys())"
   ]
  },
  {
   "cell_type": "code",
   "execution_count": 73,
   "id": "22531507",
   "metadata": {},
   "outputs": [
    {
     "data": {
      "text/plain": [
       "['Name', 'Hobby', 'Nationality']"
      ]
     },
     "execution_count": 73,
     "metadata": {},
     "output_type": "execute_result"
    }
   ],
   "source": [
    "keys"
   ]
  },
  {
   "cell_type": "code",
   "execution_count": 74,
   "id": "aa0d7ecc",
   "metadata": {},
   "outputs": [
    {
     "data": {
      "text/plain": [
       "dict_values(['Nawaz sharif', 'Corruption', 'London'])"
      ]
     },
     "execution_count": 74,
     "metadata": {},
     "output_type": "execute_result"
    }
   ],
   "source": [
    "details.values()"
   ]
  },
  {
   "cell_type": "code",
   "execution_count": 75,
   "id": "e7170a9f",
   "metadata": {},
   "outputs": [],
   "source": [
    "values = list(details.values())"
   ]
  },
  {
   "cell_type": "code",
   "execution_count": 76,
   "id": "3e4d2a3f",
   "metadata": {},
   "outputs": [
    {
     "data": {
      "text/plain": [
       "'Nawaz sharif'"
      ]
     },
     "execution_count": 76,
     "metadata": {},
     "output_type": "execute_result"
    }
   ],
   "source": [
    "values[0]"
   ]
  },
  {
   "cell_type": "code",
   "execution_count": 80,
   "id": "8d95cac6",
   "metadata": {},
   "outputs": [],
   "source": [
    "details.update({'property': 'unlimited'})"
   ]
  },
  {
   "cell_type": "code",
   "execution_count": 83,
   "id": "e35ba9bb",
   "metadata": {},
   "outputs": [],
   "source": [
    "details.update({'a':'b'})"
   ]
  },
  {
   "cell_type": "code",
   "execution_count": 85,
   "id": "92ca4490",
   "metadata": {},
   "outputs": [],
   "source": [
    "details['Fav Dish'] = 'Pakistan'"
   ]
  },
  {
   "cell_type": "code",
   "execution_count": 87,
   "id": "bec1972a",
   "metadata": {},
   "outputs": [],
   "source": [
    "details.update({'a':'c'})"
   ]
  },
  {
   "cell_type": "code",
   "execution_count": 89,
   "id": "f21d3508",
   "metadata": {},
   "outputs": [],
   "source": [
    "details['a'] = 'd'"
   ]
  },
  {
   "cell_type": "code",
   "execution_count": 92,
   "id": "c547ced7",
   "metadata": {},
   "outputs": [],
   "source": [
    "details.update({\n",
    "    'Name':'Shabaz Sharif', \n",
    "    'Hobby': 'Begging', \n",
    "    'Nationality': 'Saudia',\n",
    "    'Skills': 'Boot Polish'\n",
    "})"
   ]
  },
  {
   "cell_type": "code",
   "execution_count": 94,
   "id": "10cac283",
   "metadata": {},
   "outputs": [],
   "source": [
    "details['Name'] = 'Nawaz Sharif'\n",
    "details['Hobby'] = 'Corruption'\n",
    "details['Nationality'] = 'London'\n",
    "details['Skills'] = 'Money Laundring'\n",
    "\n"
   ]
  },
  {
   "cell_type": "code",
   "execution_count": 101,
   "id": "7a86eeab",
   "metadata": {},
   "outputs": [
    {
     "data": {
      "text/plain": [
       "['karachi', 'chakwal', 'quetta', 'lahore', 'multan']"
      ]
     },
     "execution_count": 101,
     "metadata": {},
     "output_type": "execute_result"
    }
   ],
   "source": [
    "cities"
   ]
  },
  {
   "cell_type": "code",
   "execution_count": 103,
   "id": "833e135a",
   "metadata": {},
   "outputs": [],
   "source": [
    "cities_dict = dict.fromkeys(cities)"
   ]
  },
  {
   "cell_type": "code",
   "execution_count": 104,
   "id": "a4490c7b",
   "metadata": {},
   "outputs": [
    {
     "data": {
      "text/plain": [
       "{'karachi': None,\n",
       " 'chakwal': None,\n",
       " 'quetta': None,\n",
       " 'lahore': None,\n",
       " 'multan': None}"
      ]
     },
     "execution_count": 104,
     "metadata": {},
     "output_type": "execute_result"
    }
   ],
   "source": [
    "cities_dict"
   ]
  },
  {
   "cell_type": "code",
   "execution_count": 107,
   "id": "363a14d3",
   "metadata": {},
   "outputs": [],
   "source": [
    "cities_dict.pop('karachi')"
   ]
  },
  {
   "cell_type": "code",
   "execution_count": 109,
   "id": "6645f333",
   "metadata": {},
   "outputs": [],
   "source": [
    "chakwal = cities_dict.pop('chakwal')"
   ]
  },
  {
   "cell_type": "code",
   "execution_count": 112,
   "id": "01150358",
   "metadata": {},
   "outputs": [],
   "source": [
    "name = details.pop('Name')"
   ]
  },
  {
   "cell_type": "code",
   "execution_count": 113,
   "id": "df15f172",
   "metadata": {},
   "outputs": [
    {
     "data": {
      "text/plain": [
       "'Nawaz Sharif'"
      ]
     },
     "execution_count": 113,
     "metadata": {},
     "output_type": "execute_result"
    }
   ],
   "source": [
    "name"
   ]
  },
  {
   "cell_type": "code",
   "execution_count": 115,
   "id": "e20121f6",
   "metadata": {},
   "outputs": [
    {
     "data": {
      "text/plain": [
       "('Skills', 'Money Laundring')"
      ]
     },
     "execution_count": 115,
     "metadata": {},
     "output_type": "execute_result"
    }
   ],
   "source": [
    "details.popitem()"
   ]
  },
  {
   "cell_type": "code",
   "execution_count": 117,
   "id": "56ee9e87",
   "metadata": {},
   "outputs": [],
   "source": [
    "poped_item = details.popitem()"
   ]
  },
  {
   "cell_type": "code",
   "execution_count": 120,
   "id": "083efa0a",
   "metadata": {},
   "outputs": [
    {
     "data": {
      "text/plain": [
       "tuple"
      ]
     },
     "execution_count": 120,
     "metadata": {},
     "output_type": "execute_result"
    }
   ],
   "source": [
    "type(poped_item)"
   ]
  },
  {
   "cell_type": "code",
   "execution_count": 121,
   "id": "32a05f4c",
   "metadata": {},
   "outputs": [],
   "source": [
    "khali_dict = {}"
   ]
  },
  {
   "cell_type": "code",
   "execution_count": 124,
   "id": "2f99e033",
   "metadata": {},
   "outputs": [
    {
     "ename": "KeyError",
     "evalue": "'ali'",
     "output_type": "error",
     "traceback": [
      "\u001b[1;31m---------------------------------------------------------------------------\u001b[0m",
      "\u001b[1;31mKeyError\u001b[0m                                  Traceback (most recent call last)",
      "Cell \u001b[1;32mIn[124], line 1\u001b[0m\n\u001b[1;32m----> 1\u001b[0m khali_dict\u001b[38;5;241m.\u001b[39mpop(\u001b[38;5;124m'\u001b[39m\u001b[38;5;124mali\u001b[39m\u001b[38;5;124m'\u001b[39m)\n",
      "\u001b[1;31mKeyError\u001b[0m: 'ali'"
     ]
    }
   ],
   "source": [
    "khali_dict.pop('ali')"
   ]
  },
  {
   "cell_type": "markdown",
   "id": "bbfa9f75",
   "metadata": {},
   "source": [
    "## Copy by value / shallow copy"
   ]
  },
  {
   "cell_type": "code",
   "execution_count": 126,
   "id": "4a7b9bf0",
   "metadata": {},
   "outputs": [],
   "source": [
    "copy = cities_dict.copy() # shallow copy"
   ]
  },
  {
   "cell_type": "code",
   "execution_count": 127,
   "id": "ae190159",
   "metadata": {},
   "outputs": [
    {
     "data": {
      "text/plain": [
       "{'quetta': None, 'lahore': None, 'multan': None}"
      ]
     },
     "execution_count": 127,
     "metadata": {},
     "output_type": "execute_result"
    }
   ],
   "source": [
    "copy"
   ]
  },
  {
   "cell_type": "code",
   "execution_count": 128,
   "id": "fd1c1337",
   "metadata": {},
   "outputs": [],
   "source": [
    "copy.update({'lahore':'fraud'})"
   ]
  },
  {
   "cell_type": "code",
   "execution_count": 129,
   "id": "6b20d838",
   "metadata": {},
   "outputs": [
    {
     "data": {
      "text/plain": [
       "{'quetta': None, 'lahore': 'fraud', 'multan': None}"
      ]
     },
     "execution_count": 129,
     "metadata": {},
     "output_type": "execute_result"
    }
   ],
   "source": [
    "copy"
   ]
  },
  {
   "cell_type": "code",
   "execution_count": 130,
   "id": "40d97e8c",
   "metadata": {},
   "outputs": [
    {
     "data": {
      "text/plain": [
       "{'quetta': None, 'lahore': None, 'multan': None}"
      ]
     },
     "execution_count": 130,
     "metadata": {},
     "output_type": "execute_result"
    }
   ],
   "source": [
    "cities_dict"
   ]
  },
  {
   "cell_type": "markdown",
   "id": "69957590",
   "metadata": {},
   "source": [
    "## Copy by reference / deep copy "
   ]
  },
  {
   "cell_type": "code",
   "execution_count": 131,
   "id": "d6e3dd97",
   "metadata": {},
   "outputs": [],
   "source": [
    "ref_copy = copy"
   ]
  },
  {
   "cell_type": "code",
   "execution_count": 132,
   "id": "307603fd",
   "metadata": {},
   "outputs": [
    {
     "data": {
      "text/plain": [
       "{'quetta': None, 'lahore': 'fraud', 'multan': None}"
      ]
     },
     "execution_count": 132,
     "metadata": {},
     "output_type": "execute_result"
    }
   ],
   "source": [
    "ref_copy"
   ]
  },
  {
   "cell_type": "code",
   "execution_count": 133,
   "id": "80f2434d",
   "metadata": {},
   "outputs": [
    {
     "data": {
      "text/plain": [
       "{'quetta': None, 'lahore': 'fraud', 'multan': None}"
      ]
     },
     "execution_count": 133,
     "metadata": {},
     "output_type": "execute_result"
    }
   ],
   "source": [
    "copy"
   ]
  },
  {
   "cell_type": "code",
   "execution_count": 134,
   "id": "369bc842",
   "metadata": {},
   "outputs": [
    {
     "data": {
      "text/plain": [
       "('multan', None)"
      ]
     },
     "execution_count": 134,
     "metadata": {},
     "output_type": "execute_result"
    }
   ],
   "source": [
    "ref_copy.popitem()"
   ]
  },
  {
   "cell_type": "code",
   "execution_count": 135,
   "id": "5a992f59",
   "metadata": {},
   "outputs": [
    {
     "data": {
      "text/plain": [
       "{'quetta': None, 'lahore': 'fraud'}"
      ]
     },
     "execution_count": 135,
     "metadata": {},
     "output_type": "execute_result"
    }
   ],
   "source": [
    "ref_copy"
   ]
  },
  {
   "cell_type": "code",
   "execution_count": 136,
   "id": "a9620efc",
   "metadata": {},
   "outputs": [
    {
     "data": {
      "text/plain": [
       "{'quetta': None, 'lahore': 'fraud'}"
      ]
     },
     "execution_count": 136,
     "metadata": {},
     "output_type": "execute_result"
    }
   ],
   "source": [
    "copy"
   ]
  },
  {
   "attachments": {
    "image.png": {
     "image/png": "[encoded data removed]"
    }
   },
   "cell_type": "markdown",
   "id": "31649bbc",
   "metadata": {},
   "source": [
    "![image.png](attachment:image.png)"
   ]
  },
  {
   "cell_type": "code",
   "execution_count": 137,
   "id": "dff4a4cd",
   "metadata": {},
   "outputs": [],
   "source": [
    "copy.clear()"
   ]
  },
  {
   "cell_type": "code",
   "execution_count": 138,
   "id": "94288ba3",
   "metadata": {},
   "outputs": [
    {
     "data": {
      "text/plain": [
       "{}"
      ]
     },
     "execution_count": 138,
     "metadata": {},
     "output_type": "execute_result"
    }
   ],
   "source": [
    "copy"
   ]
  },
  {
   "cell_type": "code",
   "execution_count": 139,
   "id": "717ece17",
   "metadata": {},
   "outputs": [
    {
     "data": {
      "text/plain": [
       "{}"
      ]
     },
     "execution_count": 139,
     "metadata": {},
     "output_type": "execute_result"
    }
   ],
   "source": [
    "ref_copy"
   ]
  },
  {
   "cell_type": "code",
   "execution_count": 140,
   "id": "8f79cf3a",
   "metadata": {},
   "outputs": [
    {
     "name": "stdout",
     "output_type": "stream",
     "text": [
      "2\n"
     ]
    }
   ],
   "source": [
    "my_dict = {'a': 1, 'b': 2, 'c': 3}\n",
    "result = my_dict.get('b', 0)\n",
    "print(result)"
   ]
  },
  {
   "cell_type": "code",
   "execution_count": 142,
   "id": "75203955",
   "metadata": {},
   "outputs": [
    {
     "data": {
      "text/plain": [
       "2"
      ]
     },
     "execution_count": 142,
     "metadata": {},
     "output_type": "execute_result"
    }
   ],
   "source": [
    "my_dict.get('b', 5)"
   ]
  },
  {
   "cell_type": "code",
   "execution_count": null,
   "id": "9af49fb9",
   "metadata": {},
   "outputs": [],
   "source": []
  }
 ],
 "metadata": {
  "kernelspec": {
   "display_name": "Python 3 (ipykernel)",
   "language": "python",
   "name": "python3"
  },
  "language_info": {
   "codemirror_mode": {
    "name": "ipython",
    "version": 3
   },
   "file_extension": ".py",
   "mimetype": "text/x-python",
   "name": "python",
   "nbconvert_exporter": "python",
   "pygments_lexer": "ipython3",
   "version": "3.11.5"
  }
 },
 "nbformat": 4,
 "nbformat_minor": 5
}
